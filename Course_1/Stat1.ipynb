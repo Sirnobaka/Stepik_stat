{
 "cells": [
  {
   "cell_type": "markdown",
   "id": "nonprofit-pledge",
   "metadata": {},
   "source": [
    "# Курс 1"
   ]
  },
  {
   "cell_type": "markdown",
   "id": "senior-mustang",
   "metadata": {},
   "source": [
    "## Глава 1: Введение"
   ]
  },
  {
   "cell_type": "code",
   "execution_count": 294,
   "id": "patent-compression",
   "metadata": {},
   "outputs": [],
   "source": [
    "import math\n",
    "import numpy as np\n",
    "from scipy import stats\n",
    "import matplotlib.pyplot as plt\n",
    "import pandas as pd\n",
    "import itertools\n",
    "\n",
    "\n",
    "plt.rcParams.update({\n",
    "        'font.size': 14,\n",
    "        'axes.titlesize': 25,\n",
    "        'axes.labelsize': 25,\n",
    "        'xtick.labelsize': 22,\n",
    "        'ytick.labelsize': 22,\n",
    "        'font.size': 20,\n",
    "        'figure.figsize': (8, 5),\n",
    "        'axes.grid': True,\n",
    "        'grid.linestyle': '-',\n",
    "        'grid.alpha': 0.3,\n",
    "        'lines.markersize': 5.0,\n",
    "        'xtick.minor.visible': True,\n",
    "        'xtick.direction': 'in',\n",
    "        'xtick.major.size': 20.0,\n",
    "        'xtick.minor.size': 10.0,\n",
    "        'xtick.top': False,\n",
    "        'xtick.bottom': True,\n",
    "        'ytick.minor.visible': True,\n",
    "        'ytick.direction': 'in',\n",
    "        'ytick.major.size': 12.0,\n",
    "        'ytick.minor.size': 6.0,\n",
    "        'ytick.right': True,\n",
    "        'errorbar.capsize': 0.0,\n",
    "    })"
   ]
  },
  {
   "cell_type": "code",
   "execution_count": null,
   "id": "southwest-crowd",
   "metadata": {},
   "outputs": [],
   "source": [
    "def mean_value(string):\n",
    "    lst = list(map(float, string.split()))\n",
    "    mean = sum(lst) / len(lst)\n",
    "    print(f'mean = {mean}')\n",
    "    \n",
    "def std_value(string):\n",
    "    lst = list(map(float, string.split()))\n",
    "    mean = sum(lst) / float(len(lst))\n",
    "    print(f'mean      = {mean}')\n",
    "    dev_sqr_values = [(i - mean)**2 for i in lst]\n",
    "    std2 = math.sqrt(sum(dev_sqr_values) / (len(dev_sqr_values)-1))\n",
    "    print(f'numpy std = {np.std(np.array(lst))}')\n",
    "    print(f'std       = {std2}')\n",
    "    \n",
    "std_value(input())"
   ]
  },
  {
   "cell_type": "code",
   "execution_count": 2,
   "id": "german-consistency",
   "metadata": {},
   "outputs": [
    {
     "name": "stdout",
     "output_type": "stream",
     "text": [
      "P(10, 15) = 0.0 (sigma = 1)\n",
      "P(10, 15) = 0.0 (sigma = 2)\n",
      "P(10, 15) = 0.00043 (sigma = 3)\n",
      "P(10, 15) = 0.00612 (sigma = 4)\n",
      "P(10, 15) = 0.0214 (sigma = 5)\n",
      "P(10, 15) = 0.04158 (sigma = 6)\n",
      "P(10, 15) = 0.0605 (sigma = 7)\n",
      "P(10, 15) = 0.07525 (sigma = 8)\n",
      "P(10, 15) = 0.08547 (sigma = 9)\n",
      "P(10, 15) = 0.09185 (sigma = 10)\n",
      "P(10, 15) = 0.09531 (sigma = 11)\n",
      "P(10, 15) = 0.09668 (sigma = 12)\n",
      "P(10, 15) = 0.0966 (sigma = 13)\n",
      "P(10, 15) = 0.09554 (sigma = 14)\n",
      "P(10, 15) = 0.09384 (sigma = 15)\n",
      "P(10, 15) = 0.09173 (sigma = 16)\n",
      "P(10, 15) = 0.08939 (sigma = 17)\n",
      "P(10, 15) = 0.08693 (sigma = 18)\n",
      "P(10, 15) = 0.08442 (sigma = 19)\n"
     ]
    }
   ],
   "source": [
    "import math\n",
    "\n",
    "def ErfSigma(x, sigma):\n",
    "    return math.erf(x/(math.sqrt(2)*sigma))\n",
    "\n",
    "def ErfSigmaDiff(mean, x1, x2):\n",
    "    def ErfSigmaValue(sigma):\n",
    "        return 0.5 * (math.erf((x2 - mean)/(math.sqrt(2)*sigma)) - math.erf((x1 - mean)/(math.sqrt(2)*sigma)))\n",
    "    return ErfSigmaValue\n",
    "\n",
    "mean = 25\n",
    "x1 = 10\n",
    "x2 = 15\n",
    "ErfInterval = ErfSigmaDiff(mean, x1, x2)\n",
    "\n",
    "for sigma_i in range(1,20):\n",
    "    print('P(10, 15) =', round(ErfInterval(sigma_i), 5), f'(sigma = {sigma_i})' )"
   ]
  },
  {
   "cell_type": "code",
   "execution_count": 3,
   "id": "young-heating",
   "metadata": {},
   "outputs": [
    {
     "name": "stdout",
     "output_type": "stream",
     "text": [
      "P (x > 154) = 0.3085375387259869\n"
     ]
    }
   ],
   "source": [
    "# Probability of value to lay between x1 and x2 for Gaussian distribution with sigma and mean\n",
    "def prob_gauss(mean, sigma, x1, x2):\n",
    "    return 0.5 * (math.erf((x2 - mean)/(math.sqrt(2)*sigma)) - math.erf((x1 - mean)/(math.sqrt(2)*sigma)))\n",
    "\n",
    "prob = prob_gauss(150, 8, 154, 1000) # x2 is simply infinity\n",
    "print(f'P (x > 154) = {prob}')"
   ]
  },
  {
   "cell_type": "code",
   "execution_count": 4,
   "id": "tight-samoa",
   "metadata": {},
   "outputs": [
    {
     "name": "stdout",
     "output_type": "stream",
     "text": [
      "P(50, 150) = 1.0\n",
      "P(90, 110) = 0.9544997361036416\n",
      "P(50, 100) = 0.5\n",
      "P(IQ > 125) = 0.04779035225973077\n",
      "P(70 > IQ > 112) = 0.765394469468424\n"
     ]
    }
   ],
   "source": [
    "def IntervalGauss(mean, sigma):\n",
    "    def prob_gauss(x1, x2):\n",
    "        return 0.5 * (math.erf((x2 - mean)/(math.sqrt(2)*sigma)) - math.erf((x1 - mean)/(math.sqrt(2)*sigma)))\n",
    "    return prob_gauss\n",
    "\n",
    "# Exercises 1.7\n",
    "func_interval = IntervalGauss(100, 5)\n",
    "for x1, x2 in zip([50, 90, 50], [150, 110, 100]):\n",
    "    print(f'P({x1}, {x2}) = {func_interval(x1, x2)}')\n",
    "    \n",
    "# IQ\n",
    "func_interval = IntervalGauss(100, 15)\n",
    "print(f'P(IQ > 125) = {func_interval(125, 200)}')\n",
    "print(f'P(70 > IQ > 112) = {func_interval(70, 112)}')"
   ]
  },
  {
   "cell_type": "code",
   "execution_count": 5,
   "id": "cosmetic-iraqi",
   "metadata": {
    "scrolled": true
   },
   "outputs": [
    {
     "name": "stdout",
     "output_type": "stream",
     "text": [
      "conf level (2 sigmas) = 0.9544997361036416\n"
     ]
    }
   ],
   "source": [
    "# calculate confidence level for Gauss with mean = 0 and sigma = 1\n",
    "mean = 0\n",
    "sigma = 1\n",
    "n_sigma = 2\n",
    "conf_interval_left = mean - n_sigma * sigma\n",
    "conf_interval_right = mean + n_sigma * sigma\n",
    "print(f'conf level ({n_sigma} sigmas) = {prob_gauss(mean, sigma, conf_interval_left, conf_interval_right)}')"
   ]
  },
  {
   "cell_type": "code",
   "execution_count": 6,
   "id": "deadly-notice",
   "metadata": {
    "scrolled": false
   },
   "outputs": [
    {
     "name": "stdout",
     "output_type": "stream",
     "text": [
      "conf level [8.712, 11.288] = 0.99000493536853\n"
     ]
    }
   ],
   "source": [
    "# Now we do n_sigma scan for our distribution to find interval for 99% CL\n",
    "mean = 10\n",
    "sigma = 0.5\n",
    "sigma_step = 0.001\n",
    "sigma_start = 2.5\n",
    "conf_level = 0\n",
    "count = 0\n",
    "conf_interval_left = -1\n",
    "conf_interval_right = -1\n",
    "while conf_level < 0.99:\n",
    "    conf_interval_left = mean - (sigma_start + count * sigma_step) * sigma\n",
    "    conf_interval_right = mean + (sigma_start + count * sigma_step) * sigma\n",
    "    conf_level = prob_gauss(mean, sigma, conf_interval_left, conf_interval_right)\n",
    "    count += 1\n",
    "    #print(f'conf level [{conf_interval_left}, {conf_interval_right}] = {prob_gauss(mean, sigma, conf_interval_left, conf_interval_right)}')\n",
    "print(f'conf level [{conf_interval_left}, {conf_interval_right}] = {prob_gauss(mean, sigma, conf_interval_left, conf_interval_right)}')"
   ]
  },
  {
   "cell_type": "code",
   "execution_count": 7,
   "id": "vulnerable-homeless",
   "metadata": {},
   "outputs": [
    {
     "name": "stdout",
     "output_type": "stream",
     "text": [
      "deviation: +3.0/-3.0 in sigmas\n",
      "0.002699796063260207\n",
      "95% confidence interval = (17.52, 19.48)\n"
     ]
    }
   ],
   "source": [
    "# p-value и проверка гипотез\n",
    "# Известно, что выздоровление пациентов длится 20 дней без препарата.\n",
    "# Мы тестируем препарат на выборке из 64 пациентов и получаем для этой выборки mean = 18.5, sigma = 4\n",
    "# Нужно определить, реально ли препарат ускоряет выздоровление (M != 20, гипотеза H1)\n",
    "# или никак на него не влияет (M = 20, гипотеза H0, нулевая)\n",
    "\n",
    "mean_general_0 = 20\n",
    "mean_selective = 18.5\n",
    "sigma_selective = 4\n",
    "n_selective = 64\n",
    "\n",
    "# Вероятность данного отклонения выборочной средней от генеральной средней\n",
    "# В качестве sigma разброса средних для выборочных средних мы берём\n",
    "sigma_mean = sigma_selective / math.sqrt(n_selective)\n",
    "\n",
    "# И получаем параметры распеределения (нормального) выборочных средних для H0:\n",
    "# mu = mean_general_0, sigma = sigma_mean\n",
    "# Зная параметры этого распределения, мы можем найти вероятность получения выборочного среднего занчения\n",
    "# mean_selective = 18.5, рассчитав отклонение его от mean_general_0\n",
    "\n",
    "# Вероятность обнаружить значение, лежащее за пределами интервала x1, x2 (слева или справа)\n",
    "def prob_gauss_deviation(mean, sigma, x1, x2):\n",
    "    p_interval = 0.5 * (math.erf((x2 - mean)/(math.sqrt(2)*sigma)) - math.erf((x1 - mean)/(math.sqrt(2)*sigma)))\n",
    "    p_deviation = 1 - p_interval\n",
    "    print(f'deviation: +{(x2 - mean) / sigma}/{(x1 - mean) / sigma} in sigmas')\n",
    "    return p_deviation\n",
    "    \n",
    "deviation = mean_general_0 - mean_selective\n",
    "x1 = mean_general_0 - deviation\n",
    "x2 = mean_general_0 + deviation\n",
    "p_value = prob_gauss_deviation(mean_general_0, sigma_mean, x1, x2)\n",
    "print(p_value)\n",
    "\n",
    "# Рассчитаем доверительный интервал 95% для для среднего значения из данной задачи\n",
    "def conf_interval(mean, sigma, conf_level):\n",
    "    sigma_start = 1\n",
    "    current_conf_level = 0\n",
    "    sigma_step = 0.001\n",
    "    count = 0\n",
    "    while current_conf_level < conf_level:\n",
    "        conf_interval_left = mean - (sigma_start + count * sigma_step) * sigma\n",
    "        conf_interval_right = mean + (sigma_start + count * sigma_step) * sigma\n",
    "        current_conf_level = prob_gauss(mean, sigma, conf_interval_left, conf_interval_right)\n",
    "        count += 1\n",
    "    return conf_interval_left, conf_interval_right\n",
    "\n",
    "print(f'95% confidence interval = {conf_interval(mean_selective, sigma_mean, 0.95)}')"
   ]
  },
  {
   "cell_type": "code",
   "execution_count": 11,
   "id": "aware-scanner",
   "metadata": {},
   "outputs": [
    {
     "name": "stdout",
     "output_type": "stream",
     "text": [
      "6.334248366623996e-05\n"
     ]
    }
   ],
   "source": [
    "# Задачка про баллы по курсу\n",
    "mean0 = 115\n",
    "mean_selective = 118\n",
    "n_selective = 144\n",
    "sigma_selective = 9\n",
    "\n",
    "def conf_level_calculation(mean0, mean1, sigma1, n):\n",
    "    deviation = abs(mean1 - mean0)\n",
    "    x1 = mean1 - deviation\n",
    "    x2 = mean1 + deviation\n",
    "    sigma_general = sigma1 / math.sqrt(n)\n",
    "    p_value = 1 - prob_gauss(mean1, sigma_general, x1, x2)\n",
    "    return p_value\n",
    "    \n",
    "print(conf_level_calculation(mean0, mean_selective, sigma_selective, n_selective))"
   ]
  },
  {
   "cell_type": "markdown",
   "id": "united-advantage",
   "metadata": {},
   "source": [
    "# Глава 2: сравнение средних"
   ]
  },
  {
   "cell_type": "markdown",
   "id": "favorite-capitol",
   "metadata": {},
   "source": [
    "## t-распределение Стьюдента"
   ]
  },
  {
   "cell_type": "code",
   "execution_count": 14,
   "id": "lightweight-springfield",
   "metadata": {},
   "outputs": [],
   "source": [
    "# Мы будем использовать t-распределение Стьюдента в тех случаях, когда стандартное отклонение генеральной совокупности\n",
    "# (то есть sigma) неизвестно и мы используем sigma частичной выборки, делённое на корень из числа измерений\n",
    "# se = sd / sqrt(n)\n",
    "\n",
    "from scipy import stats\n",
    "import numpy as np\n",
    "import matplotlib.pyplot as plt"
   ]
  },
  {
   "cell_type": "code",
   "execution_count": 21,
   "id": "acknowledged-belle",
   "metadata": {},
   "outputs": [
    {
     "name": "stdout",
     "output_type": "stream",
     "text": [
      "p = 0.0569398499365914\n"
     ]
    }
   ],
   "source": [
    "# Задачка для практики t-распределения (см. на видео 2.1 в курсе)\n",
    "mean0 = 10    # среднее генеральной совокупности\n",
    "mean1 = 10.8  # среднее выборки\n",
    "sigma1 = 2    # sigma выборки\n",
    "n = 25        # число наблюдений в выбоке\n",
    "se = sigma1 / math.sqrt(n) # это мы возьмём вместо sigma генеральной совокупности\n",
    "\n",
    "def t_criterion(mean_general, mean_selective, sigma_selective, n):\n",
    "    t = (mean_general - mean_selective) / (sigma_selective / math.sqrt(n))\n",
    "    # можно обоими способами df = 1 - cdf\n",
    "    # умножаем на 2, так как считаем с обоих концов\n",
    "    p = 2* stats.t.sf(abs(t), df=(n-1))\n",
    "    p = 2 * (1 - stats.t.cdf(abs(t), df=n-1))\n",
    "    return p\n",
    "\n",
    "print(f'p = {t_criterion(mean0, mean1, sigma1, n)}')"
   ]
  },
  {
   "cell_type": "code",
   "execution_count": 23,
   "id": "perfect-guard",
   "metadata": {},
   "outputs": [
    {
     "name": "stdout",
     "output_type": "stream",
     "text": [
      "p-value = 0.06528795288911193\n"
     ]
    }
   ],
   "source": [
    "# Следующая задача\n",
    "# Если на выборке в 15 наблюдений при помощи одновыборочного t-теста проверяется нулевая гипотеза: μ=10  \n",
    "# и рассчитанное t-значение равняется -2 (t = -2), то p-уровень значимости  (двусторонний) равен:\n",
    "t = -2\n",
    "n = 15\n",
    "p_value = 2 * (1 - stats.t.cdf(abs(t), df=n-1))\n",
    "print('p-value =', p_value)"
   ]
  },
  {
   "cell_type": "markdown",
   "id": "designing-musician",
   "metadata": {},
   "source": [
    "## Сравнение двух средних, t-критерий Стьюдента"
   ]
  },
  {
   "cell_type": "code",
   "execution_count": 60,
   "id": "threatened-device",
   "metadata": {},
   "outputs": [
    {
     "name": "stdout",
     "output_type": "stream",
     "text": [
      "[ 84.7 105.   98.9  97.9 108.7  81.3  99.4  89.4  93.  119.3  99.2  99.4\n",
      "  97.1 112.4  99.8  94.7 114.   95.1 115.5 111.5]\n",
      "[ 57.2  68.6 104.4  95.1  89.9  70.8  83.5  60.1  75.7 102.   69.   79.6\n",
      "  68.9  98.6  76.   74.8  56.   55.6  69.4  59.5]\n",
      "\n",
      "set 1: mean = 100.815, std = 9.987, N = 20\n",
      "set 2: mean = 75.735, std = 15.067, N = 20\n",
      "t = 6.204931974500849\n",
      "p-value = 2.980779745254125e-07\n",
      "H0 can be rejected, means aren't statistically equal, factor impacts\n"
     ]
    }
   ],
   "source": [
    "# DNA and two distributions t-criterion test\n",
    "first = '84,7   105,0   98,9   97,9   108,7   81,3   99,4   89,4   93,0   119,3   99,2   99,4   97,1   112,4   99,8   94,7   114,0   95,1   115,5   111,5'\n",
    "second = '57,2   68,6   104,4   95,1   89,9   70,8   83,5   60,1   75,7   102,0   69,0   79,6   68,9   98,6   76,0   74,8   56,0   55,6   69,4   59,5'\n",
    "set1 = np.array(list(map(float, first.replace(',', '.').split())))\n",
    "set2 = np.array(list(map(float, second.replace(',', '.').split())))\n",
    "print(set1, set2, sep='\\n')\n",
    "print()\n",
    "print(f'set 1: mean = {round(set1.mean(), 3)}, std = {round(set1.std(), 3)}, N = {set1.shape[0]}')\n",
    "print(f'set 2: mean = {round(set2.mean(), 3)}, std = {round(set2.std(), 3)}, N = {set2.shape[0]}')\n",
    "\n",
    "# Есть две гипотезы для генеральных совокупностей\n",
    "# H0: средние значения генеральных совокупностей равны (M1 = M2) M1 - M2 = 0, то есть их разность\n",
    "# распределена (нормально) со средним в нуле\n",
    "# H1: средние значения генеральных совокупностей НЕ равны (M1 != M2)\n",
    "\n",
    "# Рассчитываем t-критерий для гипотезы H0. Мы проверяем, какова вероятность того, что разность между\n",
    "# средними генеральных совокупностей, на самом деле 0, но мы получали выюорки с разностью отличной от нуля,\n",
    "# то есть mean1 - mean2 (см. выше)\n",
    "\n",
    "# t = (M0 - M1) / se = (M0 - M1) / sqrt(sd1^2/n1 + sd2^2/n2)\n",
    "\n",
    "mean1 = set1.mean()\n",
    "mean2 = set2.mean()\n",
    "sd1 = set1.std()\n",
    "sd2 = set2.std()\n",
    "n1 = set1.shape[0]\n",
    "n2 = set2.shape[0]\n",
    "se = np.sqrt(sd1**2 / n1 + sd2**2 / n2)\n",
    "\n",
    "# Важно понимать, что в нашем случае для гипотезы H0 среднее - это 0, \n",
    "# а значение mean1 - mean2 это выборочное среднее, которое отклоняется от преполагаемого в гипотезе H0\n",
    "# M0 - M1 = 0 - (mean1 - mean2)\n",
    "\n",
    "t = (mean1 - mean2) / se\n",
    "print(f't = {t}')\n",
    "\n",
    "# Число степеней свободы\n",
    "ndf = n1 + n2 - 2\n",
    "\n",
    "# print(stats.t.cdf.__doc__)\n",
    "# Вероятность отклонения\n",
    "p_value = 2 * (1 - stats.t.cdf(t, df=ndf))\n",
    "print(f'p-value = {p_value}')\n",
    "if p_value > 0.05:\n",
    "    print(\"H0 can't be rejected, means are statistically equal, no factor impact\")\n",
    "else:\n",
    "    print(\"H0 can be rejected, means aren't statistically equal, factor impacts\")"
   ]
  },
  {
   "cell_type": "code",
   "execution_count": 121,
   "id": "viral-startup",
   "metadata": {},
   "outputs": [
    {
     "name": "stdout",
     "output_type": "stream",
     "text": [
      "CDF\n",
      "1 sigma left and right for norm = 0.6826894921370859\n",
      "2 sigma left and right for norm = 0.9544997361036416\n",
      "PPF\n",
      "CDF 1-sided 1 sigma = 0.8413447460685429\n",
      "PPF corresponding to 0.84 = 0.994457883209753\n",
      "Or directly: PPF[CDF(1 sigma)] =  1.0\n",
      "PPF corresponding to two-sided 0.95 CI = 1.959963984540054\n",
      "\n",
      "               Mx         SD     N        SE\n",
      "Выборка1  100.815  10.246503  20.0  2.291188\n",
      "Выборка2   75.735  15.458102  20.0  3.456537\n"
     ]
    },
    {
     "data": {
      "image/png": "[encoded data removed]",
      "text/plain": [
       "<Figure size 1008x648 with 2 Axes>"
      ]
     },
     "metadata": {
      "needs_background": "light"
     },
     "output_type": "display_data"
    }
   ],
   "source": [
    "# CDF - cumulative distribution funcion\n",
    "# CDF(x) = P(X <= x)\n",
    "print('CDF')\n",
    "print('1 sigma left and right for norm =', stats.norm.cdf(1) - stats.norm.cdf(-1))\n",
    "print('2 sigma left and right for norm =', stats.norm.cdf(2) - stats.norm.cdf(-2))\n",
    "# PPF - percent point function or quantile function (or invercive CDF)\n",
    "# То есть, если CDF производит преобразование F(x): R -> [0, 1] из аргумента в вероятность\n",
    "# то PPF делает обратное преобразование Q: [0, 1] -> R\n",
    "print('PPF')\n",
    "print('CDF 1-sided 1 sigma =', stats.norm.cdf(1)) # ~0.84\n",
    "print('PPF corresponding to 0.84 =', stats.norm.ppf(0.84))\n",
    "print('Or directly: PPF[CDF(1 sigma)] = ', stats.norm.ppf(stats.norm.cdf(1)))\n",
    "# to calculate 2-sided PPF (for 2-sided CDF) we can do the following\n",
    "# Because in case of 2-sided p = 0.95 interval we have 0.025 on both sides\n",
    "# and to get 2 sigmas for the RIGHT side (as in case of CDF) we shold recalculate\n",
    "# p' = 0.5 + CDF(from 0 to 2 sigma) = 0.5 + 0.95/2 = (1+0.95)/2\n",
    "print('PPF corresponding to two-sided 0.95 CI =', stats.norm.ppf((1+0.95)/2))\n",
    "print()\n",
    "\n",
    "# Графики и pandas dataframe\n",
    "df = pd.DataFrame({'Выборка1':set1, 'Выборка2':set2}).agg(['mean','std','count','sem']).transpose()\n",
    "df.columns = ['Mx','SD','N','SE']\n",
    "print(df)\n",
    "# рассчитываем 95% интервал отклонения среднего\n",
    "p = 0.95\n",
    "\n",
    "K = stats.t.ppf((1 + p)/2, df['Mx']-1)\n",
    "df['interval'] = K * df['SE']\n",
    "\n",
    "#строим графики, boxplot из изначальных данных array1, array2,  доверительные интервалы из датафрейма df\n",
    "fig, (ax1, ax2) = plt.subplots(nrows=1, ncols=2, figsize=(14, 9))\n",
    "\n",
    "# график boxplot\n",
    "bplot1 = ax1.boxplot([set1, set2],\n",
    "                     vert=True,  # создаем вертикальные боксы\n",
    "                     patch_artist=True, # для красоты заполним цветом боксы квантилей\n",
    "                     labels=['Выборка1', 'Выборка2']) # используется для задания значений выборок в случае с boxplot\n",
    "\n",
    "# график доверительных интервалов\n",
    "bplot2 = ax2.errorbar(x=df.index, y=df['Mx'], yerr=df['interval'],\\\n",
    "                      color=\"black\", capsize=3, marker=\"s\", markersize=4, mfc=\"red\", mec=\"black\", fmt ='o')\n",
    "\n",
    "# раскрасим boxplot  \n",
    "colors = ['pink', 'lightgreen']\n",
    "for patch, color in zip(bplot1['boxes'], colors):\n",
    "    patch.set_facecolor(color)\n",
    "    \n",
    "# добавим общие для каждого из графиков данные\n",
    "for ax in [ax1, ax2]:\n",
    "    ax.yaxis.grid(True)\n",
    "    ax.set_title('Температура плавления ДНК двух типов')\n",
    "    ax.set_xlabel('Сравнение двух выборок')\n",
    "    ax.set_ylabel('Температура F')\n",
    "    \n",
    "plt.show()"
   ]
  },
  {
   "cell_type": "code",
   "execution_count": 138,
   "id": "million-worcester",
   "metadata": {},
   "outputs": [
    {
     "name": "stdout",
     "output_type": "stream",
     "text": [
      "values lay below 0.975 of CDF\n",
      "95.18856279254499\n",
      "values lay above 0.025 of CDF\n",
      "84.61143720745503\n",
      "conf interval for 0.95 = [84.611, 95.189]\n",
      "0.9499999999999954\n"
     ]
    }
   ],
   "source": [
    "# Рассчитайте доверительный интервал основываясь на знании t - распределения\n",
    "# для среднего значения температуры плавления ДНК у первого вида:\n",
    "# X_mean=89,9 sd=11,3 n=20\n",
    "# Для этого определите, в каком диапазоне находится 95 % наблюдений\n",
    "# у соответствующего t - распределения (df = n -1) и используйте это значение вместо коэффициента 1,96.\n",
    "\n",
    "x_mean = 89.9\n",
    "sd = 11.3\n",
    "n = 20\n",
    "\n",
    "# Используем для этого PPF t-распределения\n",
    "t = (1 + 0.95) / 2\n",
    "print('values lay below 0.975 of CDF')\n",
    "# Парметры t-распределения loc = mean, scale = sd/sqrt(n), df = n-1\n",
    "conf_interval_high = stats.t.ppf(t, df=n-1, loc=x_mean, scale=sd/math.sqrt(n))\n",
    "print(conf_interval_high)\n",
    "print('values lay above 0.025 of CDF')\n",
    "conf_interval_low = stats.t.ppf(1-t,\n",
    "                                df=n-1,\n",
    "                                loc=x_mean,\n",
    "                                scale=sd/math.sqrt(n))\n",
    "print(conf_interval_low)\n",
    "print(\n",
    "    f'conf interval for 0.95 = [{round(conf_interval_low, 3)}, {round(conf_interval_high, 3)}]'\n",
    ")\n",
    "integral = stats.t.cdf(conf_interval_high, df=n-1, loc=x_mean, scale=sd/math.sqrt(n)) - stats.t.cdf(conf_interval_low, df=n-1, loc=x_mean, scale=sd/math.sqrt(n))\n",
    "print(integral)"
   ]
  },
  {
   "cell_type": "code",
   "execution_count": 156,
   "id": "swiss-directory",
   "metadata": {},
   "outputs": [
    {
     "name": "stdout",
     "output_type": "stream",
     "text": [
      "t_init = 0.975\n",
      "1.9720174778338955\n",
      "t = 8.176235608718828 sigma\n",
      "p-value = 3.441691376337985e-14\n"
     ]
    }
   ],
   "source": [
    "# Первые премии Оскар за лучшую мужскую и женскую роль были вручены в 1929. \n",
    "# Данные гистограммы демонстрируют распределение возраста победителей с 1929 по 2014 год (100 мужчин, 100 женщин).\n",
    "# Используя t - критерий проверьте, можно ли считать наблюдаемые различия в возрасте\n",
    "# между лучшими актрисами и актерами  статистически достоверными.\n",
    "# Средний возраст мужчин равен 45, sd = 9.\n",
    "# Средний возраст женщин равен 34, sd = 10.\n",
    "\n",
    "mean_m = 45\n",
    "mean_f = 34\n",
    "sd_m = 9\n",
    "sd_f = 10\n",
    "n = 100\n",
    "\n",
    "p_value = 0.05\n",
    "t_init = (1+(1-p_value))/2\n",
    "print(f't_init = {t_init}')\n",
    "\n",
    "# Рассчитываем отклонение в единицах sigma для двухстроннего доверительного интервала 0.95 (1 - p_value)\n",
    "# Это просто упражнение\n",
    "print(stats.t(df=n*2-2).ppf(t_init))\n",
    "\n",
    "# Теперь рассчитаем отклонение от нулевой гипотезы: mean_m - mean_f = 0\n",
    "se = np.sqrt(sd_m**2/n + sd_f**2/n)\n",
    "# Отклонение в sigma\n",
    "t = (mean_m - mean_f) / se\n",
    "print(f't = {t} sigma')\n",
    "\n",
    "# Это отклонение соответствует CDF (то есть интегралу от PDF)\n",
    "p = (1 - stats.t.cdf(t, df=n*2-2)) * 2\n",
    "print(f'p-value = {p}')"
   ]
  },
  {
   "cell_type": "markdown",
   "id": "civilian-blanket",
   "metadata": {},
   "source": [
    "## Проверка двух распределений на нормальность, QQ-plot"
   ]
  },
  {
   "cell_type": "code",
   "execution_count": 157,
   "id": "hydraulic-brain",
   "metadata": {},
   "outputs": [],
   "source": [
    "#........."
   ]
  },
  {
   "cell_type": "markdown",
   "id": "informational-pressing",
   "metadata": {},
   "source": [
    "## Однофакторный дисперсионный анализ"
   ]
  },
  {
   "cell_type": "code",
   "execution_count": 221,
   "id": "aquatic-poverty",
   "metadata": {},
   "outputs": [
    {
     "name": "stdout",
     "output_type": "stream",
     "text": [
      "   set1  set2  set3\n",
      "0     3     5     7\n",
      "1     1     3     6\n",
      "2     2     4     5\n",
      "M overall = 4.0\n",
      "{'set1': 14.0, 'set2': 2.0, 'set3': 14.0}\n",
      "SST = 30.0\n",
      "{'set1': 2.0, 'set2': 2.0, 'set3': 2.0}\n",
      "SSW = 6.0\n",
      "set1   -2.0\n",
      "set2    0.0\n",
      "set3    2.0\n",
      "dtype: float64\n",
      "SSB = 24.0\n",
      "NDF total = 8\n",
      "NDF SSW = 6\n",
      "NDF SSB = 2\n",
      "F = 12.0\n",
      "p(f > a) = 1 - CDF(f) = 0.008\n",
      "p(f > a) = SF(f) = 0.008\n"
     ]
    }
   ],
   "source": [
    "# У нас есть 3 набора данных с разныи значениями и 2 гипотезы\n",
    "# H0: все средние значения равны между собой, то есть M1 = M2 = M3\n",
    "# H1: хотя бы одна пара средних значений различна, например M1 != M3\n",
    "\n",
    "data = pd.DataFrame({'set1': [3,1,2], 'set2': [5,3,4], 'set3': [7,6,5]})\n",
    "print(data)\n",
    "\n",
    "# Рассчитаем среднее по всем 3 наборам данных m_total\n",
    "m_total = data.mean().values.mean()\n",
    "print('M overall =', m_total)\n",
    "\n",
    "# Рассчитаем SST (total sum of squares) \n",
    "# SST = sum{ (x_i - m_total)^2 }, где x_i - это отдельное наблюдение (берём все выборки)\n",
    "\n",
    "sst_list = [data[set_i].apply(lambda x: (x - m_total)**2).sum() for set_i in data.columns]\n",
    "sst_dict = {key:value for (key, value) in zip(data.columns, sst_list)}\n",
    "sst = sum(sst_dict.values())\n",
    "print(sst_dict)\n",
    "print(f'SST = {sst}')\n",
    "\n",
    "# SSW - внутригрупповая сумма квадратов\n",
    "# SSW = sum[ sum{ (x_ij - m_group_j)^2 }], i - index inside group, j - index of group\n",
    "# то же самое внутри каждой выборки (то есть среднее берётся из отдельной выбоки)\n",
    "ssw_list = [((data[set_i] - data[set_i].mean())**2).sum() for set_i in data.columns]\n",
    "ssw_dict = {key:value for (key, value) in zip(data.columns, ssw_list)}\n",
    "ssw = sum(ssw_dict.values())\n",
    "print(ssw_dict)\n",
    "print(f'SSW = {ssw}')\n",
    "\n",
    "# SSB - межгрупповая сумма квадратов, это мера отклонения групповых средних от общего среднего\n",
    "# SSB = sum{ n_i * (m_i - m_total)^2 }\n",
    "# где n_i - число элементов в группе i (выборке), а m_i - среднее в гуппе i\n",
    "ssb = sum(data.shape[0] * (data.mean() - m_total)**2)\n",
    "print(data.mean() - m_total)\n",
    "print(f'SSB = {ssb}')\n",
    "\n",
    "# Чило степений свободы для всех данных\n",
    "ndf_total = data.shape[0] * data.shape[1] - 1\n",
    "print('NDF total =', ndf_total)\n",
    "# Число степеней свободы при условии, что для каждой группы задан SSW\n",
    "# ndf = n*m - n\n",
    "ndf_ssw = data.shape[0] * (data.shape[0] - 1)\n",
    "print('NDF SSW =', ndf_ssw)\n",
    "# Число степеней свободы для SSB (3 группы - 1 сумма)\n",
    "ndf_ssb = data.shape[1] - 1\n",
    "print('NDF SSB =', ndf_ssb)\n",
    "\n",
    "# F-показатель - отношение межгрупповой (SSB) и внутригрупповой изменчивости (SSW), нормированных на NDF\n",
    "# F = [SSB / (m - 1)] / (SSW / (n - m))\n",
    "# m - число измерений в группе, n - число групп\n",
    "f = (ssb / ndf_ssb) / (ssw / ndf_sets)\n",
    "print(f'F = {f}')\n",
    "\n",
    "# F-distribution\n",
    "# Мы берём CDF от значения параметра f и вычетам его из единицы, чтобы получить интеграл от хвоста\n",
    "p = 1 - stats.f(ndf_ssb, ndf_ssw).cdf(f)\n",
    "print(f'p(f > a) = 1 - CDF(f) = {round(p, 5)}')\n",
    "# То же смое можно сделать с помощью sf (survival function), sf = 1 - cdf\n",
    "p = stats.f(ndf_ssb, ndf_ssw).sf(f)\n",
    "print(f'p(f > a) = SF(f) = {round(p, 5)}')"
   ]
  },
  {
   "cell_type": "code",
   "execution_count": 208,
   "id": "earlier-onion",
   "metadata": {},
   "outputs": [
    {
     "data": {
      "image/png": "[encoded data removed]",
      "text/plain": [
       "<Figure size 576x360 with 1 Axes>"
      ]
     },
     "metadata": {
      "needs_background": "light"
     },
     "output_type": "display_data"
    }
   ],
   "source": [
    "# Графики F-distribution\n",
    "\n",
    "dfn, dfd = ndf_ssb, ndf_ssw\n",
    "\n",
    "fig, ax = plt.subplots(1, 1)\n",
    "x = np.linspace(stats.f.ppf(0.01, dfn, dfd),\n",
    "                stats.f.ppf(0.99, dfn, dfd), 100)\n",
    "ax.plot(x, stats.f.pdf(x, dfn, dfd),\n",
    "       'r-', lw=5, alpha=0.6, label='f pdf')\n",
    "ax.legend(loc='best', frameon=False)\n",
    "plt.show()"
   ]
  },
  {
   "cell_type": "code",
   "execution_count": 214,
   "id": "hungarian-butter",
   "metadata": {},
   "outputs": [
    {
     "name": "stdout",
     "output_type": "stream",
     "text": [
      "p = 0.040052541494826094\n"
     ]
    }
   ],
   "source": [
    "# Допустим, что при сравнении четырех групп между собой (по 5 наблюдений в каждой группе) \n",
    "# вы получили F = 3.5, тогда:\n",
    "\n",
    "n = 4 # число групп\n",
    "m = 5 # число наблдюдений\n",
    "f = 3.5\n",
    "\n",
    "ndf_ssw = n*(m-1)\n",
    "ndf_ssb = n-1\n",
    "\n",
    "p = stats.f(ndf_ssb, ndf_ssw).sf(f)\n",
    "print('p =', p)"
   ]
  },
  {
   "cell_type": "code",
   "execution_count": 292,
   "id": "chubby-bandwidth",
   "metadata": {},
   "outputs": [
    {
     "name": "stdout",
     "output_type": "stream",
     "text": [
      "SSW = 1302.27\n",
      "ndf = 56\n",
      "SSB = 560.72\n",
      "ndf = 3\n",
      "F = 8.037\n",
      "p = 0.000152\n",
      "F_onewayResult(statistic=8.03730248114399, pvalue=0.00015249722895229536)\n",
      "F_onewayResult(statistic=8.03730248114399, pvalue=0.00015249722895229536)\n"
     ]
    }
   ],
   "source": [
    "# Therapy - тип терапии, expr - уровень экспрессии гена\n",
    "# H0: Средний уровень экспрессии генов будет одинаковым при использовании всех четырёх типов терапии\n",
    "# H1: Опровергает гипотезу H0\n",
    "\n",
    "data = pd.read_csv('genetherapy.csv')\n",
    "therapy_types = data['Therapy'].unique()\n",
    "mean_total = data['expr'].mean()\n",
    "n = len(therapy_types)\n",
    "m = data.loc[data['Therapy'] == 'A'].shape[0]\n",
    "\n",
    "# SSW = sum[sum{(x_ij - mean_j)^2}]\n",
    "ssw = sum([\n",
    "    sum((data.loc[data['Therapy'] == therapy_i]['expr'] -\n",
    "         data.loc[data['Therapy'] == therapy_i]['expr'].mean())**2)\n",
    "    for therapy_i in therapy_types\n",
    "])\n",
    "# NDF = N - n\n",
    "ndf_ssw = n * m - n\n",
    "print(f'SSW = {round(ssw, 2)}')\n",
    "print(f'ndf = {ndf_ssw}')\n",
    "\n",
    "# SSB = sum{m * (mean_j - mean_total)^2}\n",
    "ssb = sum([\n",
    "    m * (data.loc[data['Therapy'] == therapy_i]['expr'].mean() - mean_total)**2\n",
    "    for therapy_i in therapy_types\n",
    "])\n",
    "# NDF = n - 1\n",
    "ndf_ssb = n - 1\n",
    "print(f'SSB = {round(ssb, 2)}')\n",
    "print(f'ndf = {ndf_ssb}')\n",
    "\n",
    "# Сейчас считаем F (отношение нормаированных межгрупповой и внутригрупповой изменчивостей)\n",
    "f = (ssb / ndf_ssb) / (ssw / ndf_ssw)\n",
    "print(f'F = {round(f,3)}')\n",
    "\n",
    "# И наконец рассчёт p-value\n",
    "p = stats.f(ndf_ssb, ndf_ssw).sf(f)\n",
    "print(f'p = {round(p,6)}')\n",
    "\n",
    "\n",
    "### То же самое можно сдлать гораздо проще\n",
    "A = data[data[\"Therapy\"] == \"A\"][\"expr\"]\n",
    "B = data[data[\"Therapy\"] == \"B\"][\"expr\"]\n",
    "C = data[data[\"Therapy\"] == \"C\"][\"expr\"]\n",
    "D = data[data[\"Therapy\"] == \"D\"][\"expr\"]\n",
    "print(stats.f_oneway(A, B, C, D))\n",
    "\n",
    "# Или так\n",
    "# тут прикол в том, что data.groupby('Therapy')['expr'] возвращает тупль, в котором 0-ой элемент\n",
    "# это значение колонки Therapy ('A', 'B', 'C', 'D'), а 1-ый Series из значений expr \n",
    "samples=[list(frame) for group,frame in data.groupby('Therapy')['expr']]\n",
    "print(stats.f_oneway(*samples))"
   ]
  },
  {
   "cell_type": "markdown",
   "id": "written-vocabulary",
   "metadata": {},
   "source": [
    "## Множественные сравнения ANOVA"
   ]
  },
  {
   "cell_type": "code",
   "execution_count": 311,
   "id": "falling-development",
   "metadata": {
    "scrolled": false
   },
   "outputs": [
    {
     "data": {
      "image/png": "[encoded data removed]",
      "text/plain": [
       "<Figure size 576x360 with 1 Axes>"
      ]
     },
     "metadata": {
      "needs_background": "light"
     },
     "output_type": "display_data"
    }
   ],
   "source": [
    "# Можно ввести поправку Бонферрони. Её смысл заключается в том, что мы делим пороговое значение a\n",
    "# на число сочетаний из m по 2, где m - это число выборок в сэмпле, из которого мы их попарно сравниваем\n",
    "# C(m, 2) = (m! / (m - 2)! * 2!)\n",
    "# Например, если выборок у нас 8, то поправка будет C(8, 2) = 28, получатся\n",
    "# a' = a / C(m,2)\n",
    "# a' = 0.05 / C(m,2)\n",
    "\n",
    "\n",
    "M = 0\n",
    "D = 1\n",
    "\n",
    "def ttest(a , b):\n",
    "    se = np.sqrt( a['SD']**2/a['N'] + b['SD']**2/b['N']  )\n",
    "    t = (a['Mx'] - b['Mx'])/se\n",
    "    dfreedom = a['N'] + b['N'] - 2\n",
    "    return stats.t.sf(np.abs(t), dfreedom)*2\n",
    "\n",
    "# n - элементов в выборке\n",
    "# m - количество выборок\n",
    "# a -  вероятность\n",
    "def false_alarm(m, n, a):\n",
    "    trys = 1000 # количество экспериментов\n",
    "    hist = {'Да':0, 'Нет':0} # результаты сравнений     \n",
    "    data = list(range(m)) # инициализация групп с выборками\n",
    "    a_corr = math.factorial(m) / (2 * math.factorial(m-2))\n",
    "    a = a / a_corr # вводим поправку Бонферони\n",
    "    \n",
    "    # запускаем trys экспериментов\n",
    "    for i in range(trys):\n",
    "        \n",
    "        # наполняем m выборок, для ускорения сразу их агрегируем по SD, Mx, N\n",
    "        for j in range(m):\n",
    "            dt = stats.norm.rvs(loc=M, scale=D, size=n)\n",
    "            data[j] = {'SD':np.std(dt, ddof = 1), 'Mx':np.mean(dt), 'N':n}\n",
    "\n",
    "        #сравниваем выборки по 2 группы, перебор можно реализовать с помощью двух циклов или воспользоваться itertools\n",
    "        for first, second in itertools.combinations(data, 2):\n",
    "            if ttest(first, second) <= a:\n",
    "                hist['Да']+=1\n",
    "                break\n",
    "        else:\n",
    "            hist['Нет']+=1\n",
    "\n",
    "    # рисуем гитограмму частот\n",
    "    barlist = plt.bar(hist.keys(), hist.values(), color='b')\n",
    "    barlist[0].set_color('r')\n",
    "    plt.title(round(hist['Да'] / trys,3))\n",
    "    plt.ylabel('количество')\n",
    "    plt.show()\n",
    "    \n",
    "\n",
    "false_alarm(4, 30, 0.05)"
   ]
  },
  {
   "cell_type": "markdown",
   "id": "elegant-scholar",
   "metadata": {},
   "source": [
    "## Многофакторный ANOVA"
   ]
  },
  {
   "cell_type": "code",
   "execution_count": 367,
   "id": "renewable-mississippi",
   "metadata": {},
   "outputs": [
    {
     "data": {
      "text/html": [
       "<div>\n",
       "<style scoped>\n",
       "    .dataframe tbody tr th:only-of-type {\n",
       "        vertical-align: middle;\n",
       "    }\n",
       "\n",
       "    .dataframe tbody tr th {\n",
       "        vertical-align: top;\n",
       "    }\n",
       "\n",
       "    .dataframe thead th {\n",
       "        text-align: right;\n",
       "    }\n",
       "</style>\n",
       "<table border=\"1\" class=\"dataframe\">\n",
       "  <thead>\n",
       "    <tr style=\"text-align: right;\">\n",
       "      <th></th>\n",
       "      <th>age</th>\n",
       "      <th>dose</th>\n",
       "      <th>N</th>\n",
       "      <th>Mx</th>\n",
       "      <th>SD</th>\n",
       "    </tr>\n",
       "  </thead>\n",
       "  <tbody>\n",
       "    <tr>\n",
       "      <th>0</th>\n",
       "      <td>1</td>\n",
       "      <td>D1</td>\n",
       "      <td>16</td>\n",
       "      <td>104.758464</td>\n",
       "      <td>5.863454</td>\n",
       "    </tr>\n",
       "    <tr>\n",
       "      <th>1</th>\n",
       "      <td>1</td>\n",
       "      <td>D2</td>\n",
       "      <td>16</td>\n",
       "      <td>105.545864</td>\n",
       "      <td>4.369024</td>\n",
       "    </tr>\n",
       "    <tr>\n",
       "      <th>2</th>\n",
       "      <td>2</td>\n",
       "      <td>D1</td>\n",
       "      <td>16</td>\n",
       "      <td>101.004805</td>\n",
       "      <td>5.116310</td>\n",
       "    </tr>\n",
       "    <tr>\n",
       "      <th>3</th>\n",
       "      <td>2</td>\n",
       "      <td>D2</td>\n",
       "      <td>16</td>\n",
       "      <td>102.273629</td>\n",
       "      <td>5.135374</td>\n",
       "    </tr>\n",
       "  </tbody>\n",
       "</table>\n",
       "</div>"
      ],
      "text/plain": [
       "   age dose   N          Mx        SD\n",
       "0    1   D1  16  104.758464  5.863454\n",
       "1    1   D2  16  105.545864  4.369024\n",
       "2    2   D1  16  101.004805  5.116310\n",
       "3    2   D2  16  102.273629  5.135374"
      ]
     },
     "execution_count": 367,
     "metadata": {},
     "output_type": "execute_result"
    }
   ],
   "source": [
    "data = pd.read_csv('atherosclerosis.csv')\n",
    "data.groupby(['age', 'dose']).mean()['expr']\n",
    "data.groupby(['age', 'dose']).mean()['expr']\n",
    "data.groupby(['age', 'dose']).count()['expr']\n",
    "data_dict = {'age': [index[0] for index in data.groupby(['age', 'dose']).mean().index],\n",
    "            'dose': [index[1] for index in data.groupby(['age', 'dose']).mean().index],\n",
    "            'N': data.groupby(['age', 'dose']).count()['expr'].values,\n",
    "            'Mx': data.groupby(['age', 'dose']).mean()['expr'].values,\n",
    "            'SD': data.groupby(['age', 'dose']).std()['expr'].values}\n",
    "df_stat = pd.DataFrame(data_dict)\n",
    "df_stat"
   ]
  },
  {
   "cell_type": "code",
   "execution_count": null,
   "id": "voluntary-tours",
   "metadata": {},
   "outputs": [],
   "source": []
  },
  {
   "cell_type": "code",
   "execution_count": null,
   "id": "prostate-phenomenon",
   "metadata": {},
   "outputs": [],
   "source": []
  }
 ],
 "metadata": {
  "kernelspec": {
   "display_name": "Python 3 (ipykernel)",
   "language": "python",
   "name": "python3"
  },
  "language_info": {
   "codemirror_mode": {
    "name": "ipython",
    "version": 3
   },
   "file_extension": ".py",
   "mimetype": "text/x-python",
   "name": "python",
   "nbconvert_exporter": "python",
   "pygments_lexer": "ipython3",
   "version": "3.7.7"
  }
 },
 "nbformat": 4,
 "nbformat_minor": 5
}
